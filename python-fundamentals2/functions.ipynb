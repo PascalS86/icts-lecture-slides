{
  "cells": [
    {
      "metadata": {
        "slideshow": {
          "slide_type": "slide"
        },
        "trusted": true
      },
      "cell_type": "markdown",
      "source": "<div class=\"text-center\">\n    <h1 >Python Fundamentals Part II</h1>\n    <h3 >Course: Information & Communication Technologies and Systems</h3>\n    <br />\n    <div class=\"row\">Pascal Senjic</div>\n    <br />\n    <div>ESB Business School </div>\n    <br />\n    <div>Fall 2019 </div>\n<div>"
    },
    {
      "metadata": {
        "slideshow": {
          "slide_type": "notes"
        },
        "trusted": true
      },
      "cell_type": "markdown",
      "source": "<!--\nhttps://nbviewer.jupyter.org/\nhttps://github.com/PascalS86/icts-python/blob/master/functions.ipynb\nhttps://nbviewer.jupyter.org/github/PascalS86/icts-python/blob/master/functions.ipynb\n    !-->"
    },
    {
      "metadata": {
        "slideshow": {
          "slide_type": "slide"
        }
      },
      "cell_type": "markdown",
      "source": "<img src=\"http://battleshippretension.com/blog/wp-content/uploads/2012/09/4931119.jpg\" />\n<div class=\"text-right\" style=\"font-size:8pt\">Source: http://battleshippretension.com/blog/wp-content/uploads/2012/09/4931119.jpg</div>"
    },
    {
      "metadata": {
        "slideshow": {
          "slide_type": "slide"
        }
      },
      "cell_type": "markdown",
      "source": "### Previously on\n\nWhat do we need for this session?\n* Types and values\n* Strings\n* I/O\n* Relational Operators\n* Conditional Statements\n* Loops\n* Lists\n* Dictionaries\n"
    },
    {
      "metadata": {
        "slideshow": {
          "slide_type": "slide"
        },
        "trusted": true
      },
      "cell_type": "markdown",
      "source": "### Agenda\n\n* Functions\n* Error Handling\n* Classes\n"
    },
    {
      "metadata": {
        "slideshow": {
          "slide_type": "notes"
        },
        "trusted": true
      },
      "cell_type": "markdown",
      "source": "<!---### First things first-->\n<!---* Enter the Slack group (https://esb-llf.slack.com/)-->\n<!---    * Join Channel ICTS-WI18-->\n<!---* Slack is a communication platform-->\n<!---* If you want to share your solution, inform me through slack-->"
    },
    {
      "metadata": {
        "slideshow": {
          "slide_type": "slide"
        }
      },
      "cell_type": "markdown",
      "source": "### Functions\n\nHave me meet any function in part I?"
    },
    {
      "metadata": {
        "slideshow": {
          "slide_type": "slide"
        }
      },
      "cell_type": "markdown",
      "source": "### Functions\n\nWhat are functions?\n* Method to organize code in useful blocks\n* Method to make code more readable\n* Method to make code reusable\n* Necessary to share your code as a module or interface"
    },
    {
      "metadata": {
        "slideshow": {
          "slide_type": "slide"
        },
        "trusted": true
      },
      "cell_type": "markdown",
      "source": "### Functions - Tic Tac Toe\n\n<img src=\"https://livinginmultipleworlds.files.wordpress.com/2013/10/wargames-tic-tac-toe.jpg\" />\n<div class=\"text-right\" style=\"font-size:8pt\">Source: https://livinginmultipleworlds.files.wordpress.com/2013/10/wargames-tic-tac-toe.jpg</div>"
    },
    {
      "metadata": {
        "slideshow": {
          "slide_type": "slide"
        }
      },
      "cell_type": "markdown",
      "source": "### Functions - Tic Tac Toe\n\n* Write python code, that displays the game map"
    },
    {
      "metadata": {
        "slideshow": {
          "slide_type": "fragment"
        },
        "trusted": true
      },
      "cell_type": "code",
      "source": "# your code here",
      "execution_count": 5,
      "outputs": []
    },
    {
      "metadata": {
        "slideshow": {
          "slide_type": "slide"
        }
      },
      "cell_type": "markdown",
      "source": "### Functions - How to write a Function\n\nStructure for a function with no return value:\n<br />\n<strong>def</strong> [name] ([parameters]):\n<br />\n<span style=\"color:white\">____<span /><span style=\"color:black\">[function_code]<span />\n    "
    },
    {
      "metadata": {
        "slideshow": {
          "slide_type": "fragment"
        },
        "trusted": true
      },
      "cell_type": "code",
      "source": "def some_function():\n    print(\"this is a function\")\n    \nsome_function()",
      "execution_count": 2,
      "outputs": [
        {
          "output_type": "stream",
          "text": "this is a function\n",
          "name": "stdout"
        }
      ]
    },
    {
      "metadata": {
        "slideshow": {
          "slide_type": "slide"
        }
      },
      "cell_type": "markdown",
      "source": "### Functions - How to write a Function\n\nStructure for a function with return value:\n<br />\n<strong>def</strong> [name] ([parameters]):\n<br />\n<span style=\"color:white\">____<span /><span style=\"color:black\">[function_code]<span />\n    \n<span style=\"color:white\">____<span /><span style=\"color:black\">return [return value]<span />\n    "
    },
    {
      "metadata": {
        "slideshow": {
          "slide_type": "fragment"
        },
        "trusted": true
      },
      "cell_type": "code",
      "source": "def some_function():\n    return \"this is a function with return value\"\n    \nstr = some_function()\nprint(str)",
      "execution_count": 16,
      "outputs": [
        {
          "output_type": "stream",
          "text": "this is a function with return value\n",
          "name": "stdout"
        }
      ]
    },
    {
      "metadata": {
        "slideshow": {
          "slide_type": "slide"
        }
      },
      "cell_type": "markdown",
      "source": "### Functions - What are parameters?\n\n* You can write a function with input parameters\n* Functions work on input parameters\n* Defines, what is needed to work"
    },
    {
      "metadata": {
        "slideshow": {
          "slide_type": "fragment"
        },
        "trusted": true
      },
      "cell_type": "code",
      "source": "def turn(n_direction):\n    print(\"Turning %s\"%(n_direction))\n\nturn(\"left\")",
      "execution_count": 17,
      "outputs": [
        {
          "output_type": "stream",
          "text": "Turning left\n",
          "name": "stdout"
        }
      ]
    },
    {
      "metadata": {
        "slideshow": {
          "slide_type": "slide"
        }
      },
      "cell_type": "markdown",
      "source": "### Functions - Exercise\n\nFor Tic Tac Toe\n* Write a Function with an input for Tic Tac Toe, that is stored to a game map\n"
    },
    {
      "metadata": {
        "slideshow": {
          "slide_type": "fragment"
        },
        "trusted": true
      },
      "cell_type": "code",
      "source": "# your code here",
      "execution_count": 6,
      "outputs": []
    },
    {
      "metadata": {
        "slideshow": {
          "slide_type": "slide"
        }
      },
      "cell_type": "markdown",
      "source": "### Functions - Exercise\n\nFor Tic Tac Toe\n* Write a Function, that prints out the current game map\n\n"
    },
    {
      "metadata": {
        "slideshow": {
          "slide_type": "fragment"
        },
        "trusted": true
      },
      "cell_type": "code",
      "source": "# your code here",
      "execution_count": 19,
      "outputs": []
    },
    {
      "metadata": {
        "slideshow": {
          "slide_type": "slide"
        }
      },
      "cell_type": "markdown",
      "source": "### Functions - Exercise\n\nFor Tic Tac Toe\n* Write a Function, that recieves an input for the current game map\n\n"
    },
    {
      "metadata": {
        "slideshow": {
          "slide_type": "fragment"
        },
        "trusted": true
      },
      "cell_type": "code",
      "source": "# your code here",
      "execution_count": 20,
      "outputs": []
    },
    {
      "metadata": {
        "slideshow": {
          "slide_type": "slide"
        }
      },
      "cell_type": "markdown",
      "source": "### Functions - Variable and Scope\n\n* Variable store information\n* If you define a variable in python, it has a scope\n * local\n * global\n* the scope is defined by your code layer\n"
    },
    {
      "metadata": {
        "slideshow": {
          "slide_type": "fragment"
        },
        "trusted": true
      },
      "cell_type": "code",
      "source": "# variable x as string-variable\nx = \"I am a variable\"\n\n# variable y as number-variable\ny = 100\n\n# variable z as list\nz = []\n\nprint(x)\nprint(y)\nprint(z)",
      "execution_count": 21,
      "outputs": [
        {
          "output_type": "stream",
          "text": "I am a variable\n100\n[]\n",
          "name": "stdout"
        }
      ]
    },
    {
      "metadata": {
        "slideshow": {
          "slide_type": "fragment"
        },
        "trusted": true
      },
      "cell_type": "code",
      "source": "# a function for defining x_1\ndef some_function():\n    # local variable x as string-variable\n    x_1 = \"I am a variable\"\n\n    # local variable y as number-variable\n    y_1 = 100\n\n    # local variable z as list\n    z_1 = []\n\n# call some function\nsome_function()\n\nprint(x_1)\nprint(y_1)\nprint(z_1)\n\n\n",
      "execution_count": 7,
      "outputs": [
        {
          "output_type": "error",
          "ename": "NameError",
          "evalue": "name 'x_1' is not defined",
          "traceback": [
            "\u001b[0;31m---------------------------------------------------------------------------\u001b[0m",
            "\u001b[0;31mNameError\u001b[0m                                 Traceback (most recent call last)",
            "\u001b[0;32m<ipython-input-7-1db27d1da854>\u001b[0m in \u001b[0;36m<module>\u001b[0;34m\u001b[0m\n\u001b[1;32m     13\u001b[0m \u001b[0msome_function\u001b[0m\u001b[0;34m(\u001b[0m\u001b[0;34m)\u001b[0m\u001b[0;34m\u001b[0m\u001b[0m\n\u001b[1;32m     14\u001b[0m \u001b[0;34m\u001b[0m\u001b[0m\n\u001b[0;32m---> 15\u001b[0;31m \u001b[0mprint\u001b[0m\u001b[0;34m(\u001b[0m\u001b[0mx_1\u001b[0m\u001b[0;34m)\u001b[0m\u001b[0;34m\u001b[0m\u001b[0m\n\u001b[0m\u001b[1;32m     16\u001b[0m \u001b[0mprint\u001b[0m\u001b[0;34m(\u001b[0m\u001b[0my_1\u001b[0m\u001b[0;34m)\u001b[0m\u001b[0;34m\u001b[0m\u001b[0m\n\u001b[1;32m     17\u001b[0m \u001b[0mprint\u001b[0m\u001b[0;34m(\u001b[0m\u001b[0mz_1\u001b[0m\u001b[0;34m)\u001b[0m\u001b[0;34m\u001b[0m\u001b[0m\n",
            "\u001b[0;31mNameError\u001b[0m: name 'x_1' is not defined"
          ]
        }
      ]
    },
    {
      "metadata": {
        "slideshow": {
          "slide_type": "fragment"
        },
        "trusted": true
      },
      "cell_type": "code",
      "source": "# global variable x as string-variable\nx = \"I am a variable\"\n\n# global variable y as number-variable\ny = 100\n\n# global variable z as list\nz = []\n\n# a function for defining x_1\ndef some_function():\n    print(x)\n    print(y)\n    print(z)\n\n# call some function\n# some_function()\n\n\n\n",
      "execution_count": 8,
      "outputs": []
    },
    {
      "metadata": {
        "slideshow": {
          "slide_type": "slide"
        }
      },
      "cell_type": "markdown",
      "source": "### Functions - Exercise\n\nFor Tic Tac Toe\n* declare variables to store players name\n* players should enter their names over input\n* declare variables for storing the current game map\n* declare variable for storing who is the active player\n\n"
    },
    {
      "metadata": {
        "trusted": true
      },
      "cell_type": "code",
      "source": "# your code here",
      "execution_count": null,
      "outputs": []
    },
    {
      "metadata": {
        "slideshow": {
          "slide_type": "slide"
        }
      },
      "cell_type": "markdown",
      "source": "### Error Handling\n\n* Nobody is perfect: \n  * we all do errors (bugs) when we code\n\n* In Python, an exception will be raised\n\n* Usually, we don't want that our programs stops, on an exceptions\n\n* For that, we use the keywords try/except"
    },
    {
      "metadata": {
        "slideshow": {
          "slide_type": "fragment"
        },
        "trusted": true
      },
      "cell_type": "code",
      "source": "import sys\n\ntry:\n    print(variable)\nexcept Exception:\n    print(\"Unexpected error:\",Exception)\n",
      "execution_count": 29,
      "outputs": [
        {
          "output_type": "stream",
          "text": "Unexpected error: <class 'Exception'>\n",
          "name": "stdout"
        }
      ]
    },
    {
      "metadata": {
        "slideshow": {
          "slide_type": "slide"
        }
      },
      "cell_type": "markdown",
      "source": "### Error Handling\n\n* Sometimes we want to raise/throw exceptions\n* we do it with the raise keyword"
    },
    {
      "metadata": {
        "slideshow": {
          "slide_type": "fragment"
        },
        "trusted": true
      },
      "cell_type": "code",
      "source": "import sys\n\ntmp_input = input()\n\ntry:\n    if type(tmp_input) != str:\n        raise Exception('string expected')\nexcept Exception as ex:\n    print(\"Unexpected error:\",ex)\n",
      "execution_count": 33,
      "outputs": [
        {
          "output_type": "stream",
          "name": "stdout",
          "text": "2\nUnexpected error: string expected\n"
        }
      ]
    },
    {
      "metadata": {
        "slideshow": {
          "slide_type": "slide"
        }
      },
      "cell_type": "markdown",
      "source": "### Error Handling - Exercise\n\nFor Tic Tac Toe\n* Write a function, that validates a user input for the game map"
    },
    {
      "metadata": {
        "slideshow": {
          "slide_type": "slide"
        },
        "trusted": true
      },
      "cell_type": "code",
      "source": "# your code here",
      "execution_count": 15,
      "outputs": []
    },
    {
      "metadata": {
        "slideshow": {
          "slide_type": "slide"
        }
      },
      "cell_type": "markdown",
      "source": "### Tic Tac Toe - Exercise\n\nRequirements/Description\n* What does it take, to setup a match of tic tac toe? \n    * two players enter their names\n    * player one begins and chooses a field (entry must be valid)\n    * turn of player two: he chooses a field, which is not taken (entry must be valid)\n    * repeat until a) player one has three fields in a row or column or diagonal, b) player two has three fields in a row or column or diagonal, c) it is draw\n\n    * display winner or display that it's a draw\n\n"
    },
    {
      "metadata": {
        "slideshow": {
          "slide_type": "slide"
        }
      },
      "cell_type": "markdown",
      "source": "### Classes and Objects\n\nWhat are Classes?\n* A Structure to organize code by entities\n* Template for 'living' objects\n* Contains functions and variables, that belongs to class\n\nWhat are Objects?\n* Single Entity based on class definition\n"
    },
    {
      "metadata": {
        "slideshow": {
          "slide_type": "slide"
        }
      },
      "cell_type": "markdown",
      "source": "### Classes and Objects\n\n* Classes are definied by the keyword class\n* functions defined in classes need a parameter called 'self'\n    * self is the current instance (living object) of the class, when called\n* variables in class can be access inside a function via self.[variable_name]\n"
    },
    {
      "metadata": {
        "slideshow": {
          "slide_type": "slide"
        },
        "trusted": true
      },
      "cell_type": "code",
      "source": "# Class definition of robot\nclass robot:\n    # variable direction\n    direction = \"forward\"\n    \n    # function for movement\n    def move(self, direction):\n        self.direction = direction\n    \nr = robot()\nr.move(\"left\")\n\nprint(r.direction)\n\nr2 = robot()\nr2.move(\"right\")\nprint(r.direction)\n",
      "execution_count": 34,
      "outputs": [
        {
          "output_type": "stream",
          "text": "left\n",
          "name": "stdout"
        }
      ]
    },
    {
      "metadata": {
        "slideshow": {
          "slide_type": "slide"
        }
      },
      "cell_type": "markdown",
      "source": "### Classes and Objects\n\n* Classes have so called constructors\n    * one method called __init__\n"
    },
    {
      "metadata": {
        "slideshow": {
          "slide_type": "fragment"
        },
        "trusted": true
      },
      "cell_type": "code",
      "source": "# Class definition of robot\nclass robot:\n    # variable direction\n    direction = \"\"\n    # variable speed\n    speed = None\n    \n    # default constructor\n    \n    def __init__(self, speed=0, key=0):\n        self.speed = speed\n    \n    # function for movement\n    def move(self, direction):\n        self.direction = direction\n    \nr = robot()\nr.move(\"left\")\n\nprint(r.direction)\nprint(r.speed)\n\nr2 = robot(speed=100, key=2)\nprint(r2.speed)",
      "execution_count": 37,
      "outputs": [
        {
          "output_type": "stream",
          "text": "left\n0\n100\n",
          "name": "stdout"
        }
      ]
    },
    {
      "metadata": {
        "slideshow": {
          "slide_type": "slide"
        }
      },
      "cell_type": "markdown",
      "source": "### Tic Tac Toe - Exercise\n\nRequirements/Description\n* What classes can we build for Tic Tac Toe?\n* Is it necessary?\n\nWe need\n* Class for a Player: Name, Entry-Type (x, o), Number (1, 2)\n* Class for a Game-Map: Rows, Columns, Enter a value\n* Class for game: players, game_map, new_game, exit\n"
    },
    {
      "metadata": {
        "slideshow": {
          "slide_type": "slide"
        },
        "trusted": true
      },
      "cell_type": "code",
      "source": "# your code here",
      "execution_count": null,
      "outputs": []
    },
    {
      "metadata": {
        "slideshow": {
          "slide_type": "slide"
        }
      },
      "cell_type": "markdown",
      "source": "### Tic Tac Toe - The Channel Game\n\nWe provide Tic Tac Toe as Slack Channel game\n"
    },
    {
      "metadata": {
        "slideshow": {
          "slide_type": "slide"
        }
      },
      "cell_type": "markdown",
      "source": "### Development with Cloud Technologies\n\n* Slack provides an API (https://slackapi.github.io/python-slackclient/)\n* Slack needs an API Token for Authentication and Authorization\n    * Required to call API Methods\n"
    },
    {
      "metadata": {
        "slideshow": {
          "slide_type": "fragment"
        },
        "trusted": true
      },
      "cell_type": "code",
      "source": "#import slack_client\nfrom slackclient import SlackClient\n#import time, for waiting\nimport time\n\n#instantiate a new slack_client object\nsc = SlackClient(\"API_TOKEN\")\n\n#send a webrequest as an api_call\nsc.api_call(\"channels.list\")\n\nsc.api_call(\"users.list\")\n\n#send message to channel #general\nsc.api_call(\n\"chat.postMessage\",\nchannel=\"#general\",\ntext=\"Hello from Python-ICT Course!\"\n)\n\n#recieve messages\nif sc.rtm_connect():\n    while True:\n        print (sc.rtm_read())\n        time.sleep(1)\nelse:\n    print (\"Connection Failed, invalid token?\")",
      "execution_count": null,
      "outputs": []
    },
    {
      "metadata": {
        "slideshow": {
          "slide_type": "slide"
        }
      },
      "cell_type": "markdown",
      "source": "### Tic Tac Toe - Exercise\n\nRequirements/Description\n* What do we need to make it a channel game?\n<!--* Start new game message !-->\n<!--* Message must provide players user_name !-->\n<!--* Send message for a players turn actions !-->\n"
    },
    {
      "metadata": {
        "slideshow": {
          "slide_type": "slide"
        },
        "trusted": true
      },
      "cell_type": "code",
      "source": "# your code here",
      "execution_count": 15,
      "outputs": []
    },
    {
      "metadata": {
        "slideshow": {
          "slide_type": "slide"
        }
      },
      "cell_type": "markdown",
      "source": "### Some Final words\n\n* If you write much code, usually it is split up into several files\n    * a detailed, but good description found on https://docs.python-guide.org/writing/structure/\n* If you need sample code, have a look into https://www.github.com\n* If you are more into Videos, go to youtube.\n    * really, there are tones of python resources for different projects\n* Use Hackerrank for practise\n    \nOK, that's it with the basic.\nNext time, we'll assemble some robots\n\n<img src=\"https://hegeekshegeek.files.wordpress.com/2013/09/dummy.gif\" />\n<div class=\"text-right\" style=\"font-size:8pt\">Source: https://hegeekshegeek.files.wordpress.com/2013/09/dummy.gif</div>\n"
    },
    {
      "metadata": {
        "trusted": true,
        "slideshow": {
          "slide_type": "-"
        }
      },
      "cell_type": "code",
      "source": "from IPython.core.display import HTML\ndef css_styling():\n    styles = open(\"./custom.css\", \"r\").read()\n    return HTML(styles)\ncss_styling()",
      "execution_count": 5,
      "outputs": [
        {
          "output_type": "execute_result",
          "execution_count": 5,
          "data": {
            "text/html": "<style>\n\n    @font-face {\n\n        font-family: \"Computer Modern\";\n\n        src: url('http://9dbb143991406a7c655e-aa5fcb0a5a4ec34cff238a2d56ca4144.r56.cf5.rackcdn.com/cmunss.otf');\n\n    }\n\n    @font-face {\n\n        font-family: \"Computer Modern\";\n\n        font-weight: bold;\n\n        src: url('http://9dbb143991406a7c655e-aa5fcb0a5a4ec34cff238a2d56ca4144.r56.cf5.rackcdn.com/cmunsx.otf');\n\n    }\n\n    @font-face {\n\n        font-family: \"Computer Modern\";\n\n        font-style: oblique;\n\n        src: url('http://9dbb143991406a7c655e-aa5fcb0a5a4ec34cff238a2d56ca4144.r56.cf5.rackcdn.com/cmunsi.otf');\n\n    }\n\n    @font-face {\n\n        font-family: \"Computer Modern\";\n\n        font-weight: bold;\n\n        font-style: oblique;\n\n        src: url('http://9dbb143991406a7c655e-aa5fcb0a5a4ec34cff238a2d56ca4144.r56.cf5.rackcdn.com/cmunso.otf');\n\n    }\n\n    div.cell{\n\n        width:800px;\n\n        margin-left:16% !important;\n\n        margin-right:auto;\n\n    }\n\n    h1 {\n\n        font-family: Helvetica, serif;\n\t\tcolor:rgb(82, 48, 128);\n    }\n\n    h2 {\n\n        font-family: Helvetica, serif;\n\t\tcolor:rgb(82, 48, 128);\n      \n\n    }\n\n    h3 {\n\n        font-family: Helvetica, serif;\n\t\tcolor:rgb(82, 48, 128);\n      \n\n    }\n    h4{\n\n        margin-top:12px;\n\n        margin-bottom: 3px;\n\n       }\n\n    div.text_cell_render{\n\n        font-family: Computer Modern, \"Helvetica Neue\", Arial, Helvetica, Geneva, sans-serif;\n\n        line-height: 145%;\n\n        font-size: 130%;\n\n        width:800px;\n\n        margin-left:auto;\n\n        margin-right:auto;\n\n    }\n\n    .CodeMirror{\n\n            font-family: \"Source Code Pro\", source-code-pro,Consolas, monospace;\n\n    }\n\n    .prompt{\n\n        display: None;\n\n    }\n\n    .text_cell_render h5 {\n\n        font-weight: 300;\n\n        font-size: 22pt;\n\n        color: #4057A1;\n\n        font-style: italic;\n\n        margin-bottom: .5em;\n\n        margin-top: 0.5em;\n\n        display: block;\n\n    }\n\n    \n\n    .warning{\n\n        color: rgb( 240, 20, 20 )\n\n        }  \n\n</style>\n\n<script>\n\n    MathJax.Hub.Config({\n\n                        TeX: {\n\n                           extensions: [\"AMSmath.js\"]\n\n                           },\n\n                tex2jax: {\n\n                    inlineMath: [ ['$','$'], [\"\\\\(\",\"\\\\)\"] ],\n\n                    displayMath: [ ['$$','$$'], [\"\\\\[\",\"\\\\]\"] ]\n\n                },\n\n                displayAlign: 'center', // Change this to 'center' to center equations.\n\n                \"HTML-CSS\": {\n\n                    styles: {'.MathJax_Display': {\"margin\": 4}}\n\n                }\n\n        });\n\n</script>",
            "text/plain": "<IPython.core.display.HTML object>"
          },
          "metadata": {}
        }
      ]
    }
  ],
  "metadata": {
    "kernelspec": {
      "name": "python36",
      "display_name": "Python 3.6",
      "language": "python"
    },
    "celltoolbar": "Slideshow",
    "language_info": {
      "mimetype": "text/x-python",
      "nbconvert_exporter": "python",
      "name": "python",
      "pygments_lexer": "ipython3",
      "version": "3.6.6",
      "file_extension": ".py",
      "codemirror_mode": {
        "version": 3,
        "name": "ipython"
      }
    }
  },
  "nbformat": 4,
  "nbformat_minor": 2
}