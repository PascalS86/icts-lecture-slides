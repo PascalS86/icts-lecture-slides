{
  "cells": [
    {
      "metadata": {
        "slideshow": {
          "slide_type": "slide"
        }
      },
      "cell_type": "markdown",
      "source": [
        "<div class=\"text-center\">\n",
        "    <h1 >GoPiGo Python API </h1>\n",
        "    <h3 >Course: Information & Communication Technologies and Systems</h3>\n",
        "    <br />\n",
        "    <div class=\"row\">Pascal Senjic</div>\n",
        "    <br />\n",
        "    <div>ESB Business School </div>\n",
        "    <br />\n",
        "    <div>Summer 2020 </div>\n",
        "<div>"
      ]
    },
    {
      "metadata": {
        "slideshow": {
          "slide_type": "slide"
        }
      },
      "cell_type": "markdown",
      "source": [
        "### Agenda\n",
        "* THE API\n",
        "* PROGRAM ON THE GOPIGO\n",
        "* SETUP YOUR IDE\n",
        "* ADDITIONAL SOURCES"
      ]
    },
    {
      "metadata": {
        "slideshow": {
          "slide_type": "slide"
        }
      },
      "cell_type": "markdown",
      "source": [
        "### THE API\n",
        "What is an API?\n",
        "* Application Programming Interface\n",
        "* Defines structures and methods/functions we use to program for a specific application type"
      ]
    },
    {
      "metadata": {
        "slideshow": {
          "slide_type": "slide"
        }
      },
      "cell_type": "markdown",
      "source": [
        "### THE API\n",
        "Find the API Documentation (https://gopigo3.readthedocs.io/en/master/)\n"
      ]
    },
    {
      "metadata": {
        "slideshow": {
          "slide_type": "slide"
        }
      },
      "cell_type": "markdown",
      "source": [
        "### THE API\n",
        "Now we do some coding.\n",
        "Below you find a sample for driving an eight."
      ]
    },
    {
      "metadata": {
        "slideshow": {
          "slide_type": "fragment"
        },
        "trusted": true
      },
      "cell_type": "code",
      "source": [
        "import time\n",
        "from easygopigo3 import EasyGoPiGo3\n",
        "\n",
        "gpg = EasyGoPiGo3()\n",
        "\n",
        "gpg.reset_all()\n",
        "time.sleep(1)  # let's give the reset_all() some time to finish\n",
        "radius = 30\n",
        "\n",
        "print(\"Warning: The robot is about to move left. \")\n",
        "gpg.orbit(-270, radius) # to rotate to the left\n",
        "print(\"Warning: The robot is about to move forward. \")\n",
        "gpg.drive_cm(radius * 2) # move forward\n",
        "print(\"Warning: The robot is about to move right. \")\n",
        "gpg.orbit(270, radius) # to rotate to the right\n",
        "print(\"Warning: The robot is about to move forward. \")\n",
        "gpg.drive_cm(radius * 2) # move forward"
      ],
      "execution_count": 1,
      "outputs": [
        {
          "output_type": "stream",
          "name": "stdout",
          "text": "Warning: The robot is about to move left. \nWarning: The robot is about to move forward. \nWarning: The robot is about to move right. \nWarning: The robot is about to move forward. \n"
        }
      ]
    },
    {
      "metadata": {
        "slideshow": {
          "slide_type": "slide"
        }
      },
      "cell_type": "markdown",
      "source": [
        "### THE API\n",
        "Exercise:\n",
        "* Let the virtual robot drive a square\n",
        "* Lets switch the eyes of the virtual robot on and off\n",
        "* Let the virtual robot race a circular track with a straight way each 2 meters"
      ]
    },
    {
      "metadata": {
        "slideshow": {
          "slide_type": "fragment"
        },
        "trusted": true
      },
      "cell_type": "code",
      "source": [
        "print(\"ready....set...go!\")"
      ],
      "execution_count": null,
      "outputs": []
    },
    {
      "metadata": {
        "slideshow": {
          "slide_type": "fragment"
        },
        "trusted": true
      },
      "cell_type": "code",
      "source": [
        "print(\"Blinking eyes\")"
      ],
      "execution_count": null,
      "outputs": []
    },
    {
      "metadata": {
        "slideshow": {
          "slide_type": "fragment"
        },
        "trusted": true
      },
      "cell_type": "code",
      "source": [
        "print(\"ready....set...go!\")"
      ],
      "execution_count": null,
      "outputs": []
    },
    {
      "metadata": {
        "slideshow": {
          "slide_type": "slide"
        }
      },
      "cell_type": "markdown",
      "source": [
        "### PROGRAM ON THE GOPIGO3\n",
        "The instructions for establish a connection to the GoPiGo3 can be found under https://www.dexterindustries.com/GoPiGo/get-started-with-the-gopigo3-raspberry-pi-robot/2-connect-to-the-gopigo-3/Raspbian-For-Robots-Operating-System/\n",
        "\n",
        "Python on the GoPiGo:\n",
        "* /home/pi/Dexter/DI_Sensors \n",
        "* /home/pi/Dexter/GoPiGo3/Software/ \n",
        "* Python In these two locations are also the .py sources for Sensors and the GoPiGo module currently installed\n",
        "* more infos can be found under https://www.dexterindustries.com/GoPiGo/get-started-with-the-gopigo3-raspberry-pi-robot/3-program-your-raspberry-pi-robot/python-programming-language/"
      ]
    },
    {
      "metadata": {
        "slideshow": {
          "slide_type": "slide"
        }
      },
      "cell_type": "markdown",
      "source": [
        "### PROGRAM ON THE GOPIGO3\n",
        "Run a hardware test:\n",
        "* Navigate to /home/pi/Dexter/GoPiGo3/Software/\n",
        "* RightClick on Python folder and click Open in Terminal\n",
        "* Type in terminal: python hardware_test.py\n",
        "* Now your robot should drive and blink"
      ]
    },
    {
      "metadata": {
        "slideshow": {
          "slide_type": "slide"
        }
      },
      "cell_type": "markdown",
      "source": [
        "### PROGRAM ON THE GOPIGO3\n",
        "You can now create a new python file and test your programs from the exercise\n",
        "\n",
        "Does your real robot behave as expected?"
      ]
    },
    {
      "metadata": {
        "slideshow": {
          "slide_type": "slide"
        }
      },
      "cell_type": "markdown",
      "source": [
        "### SETUP YOUR IDE\n",
        "\n",
        "You find the information under https://www.jetbrains.com/help/pycharm/creating-a-remote-server-configuration.html\n",
        "\n",
        "What we have to do is to establish a connection to the robot and allow the access to the filesystem\n",
        "\n",
        "After you set this up, you can develop the robot directly from PyCharm and deploy your code to the robot"
      ]
    },
    {
      "metadata": {
        "slideshow": {
          "slide_type": "slide"
        }
      },
      "cell_type": "markdown",
      "source": [
        "### ADDITIONAL SOURCS\n",
        "\n",
        "* GitHub \n",
        " * GitHub is a platform, where source code can be uploaded, saved and shared You can get code via a git client or via a project download Dexter Industries got a repository of the latest GoPiGo3 build https://github.com/DexterInd/GoPiGo3 \n",
        " * Dexter Industries also got examples under the same repository https://github.com/DexterInd/GoPiGo3/tree/master/Software/Python/Examples \n",
        " * Some sample Projects are also there Simulate a worms brain (https://github.com/Connectome/GoPiGo)\n",
        " \n",
        "* Dexter Industries\n",
        " * Those fellows are the providers of the GoPiGo\n",
        " * They have a lot of samples under their homepage under https://www.dexterindustries.com/GoPiGo/projects/python-examples-for-the-raspberry-pi/"
      ]
    },
    {
      "metadata": {
        "slideshow": {
          "slide_type": "slide"
        }
      },
      "cell_type": "markdown",
      "source": [
        "### Some Final words\n",
        "\n",
        "We focused here on the GoPiGo3 API, but you should now be able to read API-documentation as well.\n",
        "\n",
        "    \n",
        "OK, that's it with the GoPiGo3 API.\n",
        "Now you can start programming your robot\n",
        "\n",
        "<img src=\"https://hegeekshegeek.files.wordpress.com/2013/09/dummy.gif\" />\n",
        "<div class=\"text-right\" style=\"font-size:8pt\">Source: https://hegeekshegeek.files.wordpress.com/2013/09/dummy.gif</div>"
      ]
    },
    {
      "metadata": {
        "trusted": true
      },
      "cell_type": "code",
      "source": [
        "from IPython.core.display import HTML\n",
        "def css_styling():\n",
        "    styles = open(\"./custom.css\", \"r\").read()\n",
        "    return HTML(styles)\n",
        "css_styling()"
      ],
      "execution_count": 5,
      "outputs": [
        {
          "output_type": "execute_result",
          "execution_count": 5,
          "data": {
            "text/html": "<style>\n\n    @font-face {\n\n        font-family: \"Computer Modern\";\n\n        src: url('http://9dbb143991406a7c655e-aa5fcb0a5a4ec34cff238a2d56ca4144.r56.cf5.rackcdn.com/cmunss.otf');\n\n    }\n\n    @font-face {\n\n        font-family: \"Computer Modern\";\n\n        font-weight: bold;\n\n        src: url('http://9dbb143991406a7c655e-aa5fcb0a5a4ec34cff238a2d56ca4144.r56.cf5.rackcdn.com/cmunsx.otf');\n\n    }\n\n    @font-face {\n\n        font-family: \"Computer Modern\";\n\n        font-style: oblique;\n\n        src: url('http://9dbb143991406a7c655e-aa5fcb0a5a4ec34cff238a2d56ca4144.r56.cf5.rackcdn.com/cmunsi.otf');\n\n    }\n\n    @font-face {\n\n        font-family: \"Computer Modern\";\n\n        font-weight: bold;\n\n        font-style: oblique;\n\n        src: url('http://9dbb143991406a7c655e-aa5fcb0a5a4ec34cff238a2d56ca4144.r56.cf5.rackcdn.com/cmunso.otf');\n\n    }\n\n    div.cell{\n\n        width:800px;\n\n        margin-left:16% !important;\n\n        margin-right:auto;\n\n    }\n\n    h1 {\n\n        font-family: Helvetica, serif;\n\t\tcolor:rgb(82, 48, 128);\n    }\n\n    h2 {\n\n        font-family: Helvetica, serif;\n\t\tcolor:rgb(82, 48, 128);\n      \n\n    }\n\n    h3 {\n\n        font-family: Helvetica, serif;\n\t\tcolor:rgb(82, 48, 128);\n      \n\n    }\n    h4{\n\n        margin-top:12px;\n\n        margin-bottom: 3px;\n\n       }\n\n    div.text_cell_render{\n\n        font-family: Computer Modern, \"Helvetica Neue\", Arial, Helvetica, Geneva, sans-serif;\n\n        line-height: 145%;\n\n        font-size: 130%;\n\n        width:800px;\n\n        margin-left:auto;\n\n        margin-right:auto;\n\n    }\n\n    .CodeMirror{\n\n            font-family: \"Source Code Pro\", source-code-pro,Consolas, monospace;\n\n    }\n\n    .prompt{\n\n        display: None;\n\n    }\n\n    .text_cell_render h5 {\n\n        font-weight: 300;\n\n        font-size: 22pt;\n\n        color: #4057A1;\n\n        font-style: italic;\n\n        margin-bottom: .5em;\n\n        margin-top: 0.5em;\n\n        display: block;\n\n    }\n\n    \n\n    .warning{\n\n        color: rgb( 240, 20, 20 )\n\n        }  \n\n</style>\n\n<script>\n\n    MathJax.Hub.Config({\n\n                        TeX: {\n\n                           extensions: [\"AMSmath.js\"]\n\n                           },\n\n                tex2jax: {\n\n                    inlineMath: [ ['$','$'], [\"\\\\(\",\"\\\\)\"] ],\n\n                    displayMath: [ ['$$','$$'], [\"\\\\[\",\"\\\\]\"] ]\n\n                },\n\n                displayAlign: 'center', // Change this to 'center' to center equations.\n\n                \"HTML-CSS\": {\n\n                    styles: {'.MathJax_Display': {\"margin\": 4}}\n\n                }\n\n        });\n\n</script>",
            "text/plain": "<IPython.core.display.HTML object>"
          },
          "metadata": {}
        }
      ]
    },
    {
      "metadata": {
        "trusted": true
      },
      "cell_type": "code",
      "source": [],
      "execution_count": null,
      "outputs": []
    }
  ],
  "metadata": {
    "kernelspec": {
      "name": "python37564bit42c8bcd9adb54a7391bd18c63e37d19c",
      "display_name": "Python 3.7.5 64-bit",
      "language": "python"
    },
    "language_info": {
      "mimetype": "text/x-python",
      "nbconvert_exporter": "python",
      "name": "python",
      "pygments_lexer": "ipython3",
      "version": "3.7.5-final",
      "file_extension": ".py",
      "codemirror_mode": {
        "version": 3,
        "name": "ipython"
      }
    },
    "celltoolbar": "Slideshow"
  },
  "nbformat": 4,
  "nbformat_minor": 2
}