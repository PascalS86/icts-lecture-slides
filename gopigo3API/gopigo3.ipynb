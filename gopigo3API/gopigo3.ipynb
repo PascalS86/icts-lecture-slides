{
 "cells": [
  {
   "cell_type": "markdown",
   "metadata": {
    "slideshow": {
     "slide_type": "slide"
    }
   },
   "source": [
    "<div class=\"text-center\">\n",
    "    <h1 >GoPiGo Python API </h1>\n",
    "    <h3 >Course: Information & Communication Technologies and Systems</h3>\n",
    "    <br />\n",
    "    <div class=\"row\">Pascal Senjic</div>\n",
    "    <br />\n",
    "    <div>ESB Business School </div>\n",
    "    <br />\n",
    "    <div>Summer 2020 </div>\n",
    "<div>"
   ]
  },
  {
   "cell_type": "markdown",
   "metadata": {
    "slideshow": {
     "slide_type": "slide"
    }
   },
   "source": [
    "### Agenda\n",
    "* THE API\n",
    "* PROGRAM ON THE GOPIGO\n",
    "* SETUP YOUR IDE\n",
    "* ADDITIONAL SOURCES"
   ]
  },
  {
   "cell_type": "markdown",
   "metadata": {
    "slideshow": {
     "slide_type": "slide"
    }
   },
   "source": [
    "### THE API\n",
    "What is an API?\n",
    "* Application Programming Interface\n",
    "* Defines structures and methods/functions we use to program for a specific application type"
   ]
  },
  {
   "cell_type": "markdown",
   "metadata": {
    "slideshow": {
     "slide_type": "slide"
    }
   },
   "source": [
    "### THE API\n",
    "Find the API Documentation (https://gopigo3.readthedocs.io/en/master/)\n"
   ]
  },
  {
   "cell_type": "markdown",
   "metadata": {
    "slideshow": {
     "slide_type": "slide"
    }
   },
   "source": [
    "### THE API\n",
    "Now we do some coding.\n",
    "Below you find a sample for driving an eight."
   ]
  },
  {
   "cell_type": "code",
   "execution_count": 1,
   "metadata": {
    "slideshow": {
     "slide_type": "fragment"
    }
   },
   "outputs": [
    {
     "output_type": "stream",
     "name": "stdout",
     "text": [
      "set_motor_limits motor3:300\n",
      "set_motor_limits motor3:0\n",
      "set_motor_limits motor3:0\n",
      "set_motor_limits motor3:10\n",
      "Warning: The robot is about to move left. \n",
      "set_motor_limits motor3:10\n",
      "set_motor_limits motor2:10\n",
      "set_motor_limits motor1:9.989395296430517\n",
      "motor1:1017336\n",
      "motor2:1018416\n",
      "motor1:9\n",
      "motor2:10\n",
      "motor1:18\n",
      "motor2:20\n",
      "motor1:27\n",
      "motor2:30\n",
      "motor1:36\n",
      "motor2:40\n",
      "motor1:45\n",
      "motor2:50\n",
      "motor1:54\n",
      "motor2:60\n",
      "motor1:63\n",
      "motor2:70\n",
      "motor1:72\n",
      "motor2:80\n",
      "motor1:81\n",
      "motor2:90\n",
      "motor1:90\n",
      "motor2:100\n",
      "speed:0\n",
      "Warning: The robot is about to move forward. \n",
      "motor1:99\n",
      "motor2:110\n",
      "set_motor_limits motor3:10\n",
      "motor1:432198\n",
      "motor2:432220\n",
      "motor1:108\n",
      "motor2:120\n",
      "motor1:117\n",
      "motor2:130\n",
      "motor1:126\n",
      "motor2:140\n",
      "motor1:135\n",
      "motor2:150\n",
      "motor1:144\n",
      "motor2:160\n",
      "motor1:153\n",
      "motor2:170\n",
      "motor1:162\n",
      "motor2:180\n",
      "motor1:171\n",
      "motor2:190\n",
      "motor1:180\n",
      "motor2:200\n",
      "motor1:189\n",
      "motor2:210\n",
      "speed:0\n",
      "Warning: The robot is about to move right. \n",
      "set_motor_limits motor3:10\n",
      "set_motor_limits motor1:10\n",
      "set_motor_limits motor2:9.989395296430517\n",
      "motor1:199\n",
      "motor2:219\n",
      "motor1:1018814\n",
      "motor2:1017774\n",
      "motor1:209\n",
      "motor2:228\n",
      "motor1:219\n",
      "motor2:237\n",
      "motor1:229\n",
      "motor2:246\n",
      "motor1:239\n",
      "motor2:255\n",
      "motor1:249\n",
      "motor2:264\n",
      "motor1:259\n",
      "motor2:273\n",
      "motor1:269\n",
      "motor2:282\n",
      "motor1:279\n",
      "motor2:291\n",
      "motor1:289\n",
      "motor2:300\n",
      "motor1:299\n",
      "motor2:309\n",
      "speed:0\n",
      "Warning: The robot is about to move forward. \n",
      "motor1:309\n",
      "motor2:318\n",
      "set_motor_limits motor3:10\n",
      "motor1:432618\n",
      "motor2:432636\n",
      "motor1:319\n",
      "motor2:327\n",
      "motor1:329\n",
      "motor2:336\n",
      "motor1:339\n",
      "motor2:345\n",
      "motor1:349\n",
      "motor2:354\n",
      "motor1:359\n",
      "motor2:363\n",
      "motor1:369\n",
      "motor2:372\n",
      "motor1:379\n",
      "motor2:381\n",
      "motor1:389\n",
      "motor2:390\n",
      "motor1:399\n",
      "motor2:399\n",
      "motor1:409\n",
      "motor2:408\n",
      "speed:0\n"
     ]
    }
   ],
   "source": [
    "import time\n",
    "from easygopigo3 import EasyGoPiGo3\n",
    "\n",
    "gpg = EasyGoPiGo3()\n",
    "\n",
    "gpg.reset_all()\n",
    "time.sleep(1)  # let's give the reset_all() some time to finish\n",
    "radius = 30\n",
    "gpg.set_speed(300)\n",
    "print(\"Warning: The robot is about to move left. \")\n",
    "gpg.orbit(-270, radius) # to rotate to the left\n",
    "print(\"Warning: The robot is about to move forward. \")\n",
    "gpg.drive_cm(radius * 2) # move forward\n",
    "print(\"Warning: The robot is about to move right. \")\n",
    "gpg.orbit(270, radius) # to rotate to the right\n",
    "print(\"Warning: The robot is about to move forward. \")\n",
    "gpg.drive_cm(radius * 2) # move forward"
   ]
  },
  {
   "cell_type": "markdown",
   "metadata": {
    "slideshow": {
     "slide_type": "slide"
    }
   },
   "source": [
    "### THE API\n",
    "Exercise:\n",
    "* Let the virtual robot drive a square\n",
    "* Lets switch the eyes of the virtual robot on and off\n",
    "* Let the virtual robot race a circular track with a straight way each 2 meters"
   ]
  },
  {
   "cell_type": "code",
   "execution_count": null,
   "metadata": {
    "slideshow": {
     "slide_type": "fragment"
    }
   },
   "outputs": [],
   "source": [
    "print(\"ready....set...go!\")"
   ]
  },
  {
   "cell_type": "code",
   "execution_count": null,
   "metadata": {
    "slideshow": {
     "slide_type": "fragment"
    }
   },
   "outputs": [],
   "source": [
    "print(\"Blinking eyes\")"
   ]
  },
  {
   "cell_type": "code",
   "execution_count": null,
   "metadata": {
    "slideshow": {
     "slide_type": "fragment"
    }
   },
   "outputs": [],
   "source": [
    "print(\"ready....set...go!\")"
   ]
  },
  {
   "cell_type": "markdown",
   "metadata": {
    "slideshow": {
     "slide_type": "slide"
    }
   },
   "source": [
    "### PROGRAM ON THE GOPIGO3\n",
    "The instructions for establish a connection to the GoPiGo3 can be found under https://www.dexterindustries.com/GoPiGo/get-started-with-the-gopigo3-raspberry-pi-robot/2-connect-to-the-gopigo-3/Raspbian-For-Robots-Operating-System/\n",
    "\n",
    "Python on the GoPiGo:\n",
    "* /home/pi/Dexter/DI_Sensors \n",
    "* /home/pi/Dexter/GoPiGo3/Software/ \n",
    "* Python In these two locations are also the .py sources for Sensors and the GoPiGo module currently installed\n",
    "* more infos can be found under https://www.dexterindustries.com/GoPiGo/get-started-with-the-gopigo3-raspberry-pi-robot/3-program-your-raspberry-pi-robot/python-programming-language/"
   ]
  },
  {
   "cell_type": "markdown",
   "metadata": {
    "slideshow": {
     "slide_type": "slide"
    }
   },
   "source": [
    "### PROGRAM ON THE GOPIGO3\n",
    "Run a hardware test:\n",
    "* Navigate to /home/pi/Dexter/GoPiGo3/Software/\n",
    "* RightClick on Python folder and click Open in Terminal\n",
    "* Type in terminal: python hardware_test.py\n",
    "* Now your robot should drive and blink"
   ]
  },
  {
   "cell_type": "markdown",
   "metadata": {
    "slideshow": {
     "slide_type": "slide"
    }
   },
   "source": [
    "### PROGRAM ON THE GOPIGO3\n",
    "You can now create a new python file and test your programs from the exercise\n",
    "\n",
    "Does your real robot behave as expected?"
   ]
  },
  {
   "cell_type": "markdown",
   "metadata": {
    "slideshow": {
     "slide_type": "slide"
    }
   },
   "source": [
    "### SETUP YOUR IDE\n",
    "\n",
    "You find the information under https://www.jetbrains.com/help/pycharm/creating-a-remote-server-configuration.html\n",
    "\n",
    "What we have to do is to establish a connection to the robot and allow the access to the filesystem\n",
    "\n",
    "After you set this up, you can develop the robot directly from PyCharm and deploy your code to the robot"
   ]
  },
  {
   "cell_type": "markdown",
   "metadata": {
    "slideshow": {
     "slide_type": "slide"
    }
   },
   "source": [
    "### ADDITIONAL SOURCS\n",
    "\n",
    "* GitHub \n",
    " * GitHub is a platform, where source code can be uploaded, saved and shared You can get code via a git client or via a project download Dexter Industries got a repository of the latest GoPiGo3 build https://github.com/DexterInd/GoPiGo3 \n",
    " * Dexter Industries also got examples under the same repository https://github.com/DexterInd/GoPiGo3/tree/master/Software/Python/Examples \n",
    " * Some sample Projects are also there Simulate a worms brain (https://github.com/Connectome/GoPiGo)\n",
    " \n",
    "* Dexter Industries\n",
    " * Those fellows are the providers of the GoPiGo\n",
    " * They have a lot of samples under their homepage under https://www.dexterindustries.com/GoPiGo/projects/python-examples-for-the-raspberry-pi/"
   ]
  },
  {
   "cell_type": "markdown",
   "metadata": {
    "slideshow": {
     "slide_type": "slide"
    }
   },
   "source": [
    "### Some Final words\n",
    "\n",
    "We focused here on the GoPiGo3 API, but you should now be able to read API-documentation as well.\n",
    "\n",
    "    \n",
    "OK, that's it with the GoPiGo3 API.\n",
    "Now you can start programming your robot\n",
    "\n",
    "<img src=\"https://hegeekshegeek.files.wordpress.com/2013/09/dummy.gif\" />\n",
    "<div class=\"text-right\" style=\"font-size:8pt\">Source: https://hegeekshegeek.files.wordpress.com/2013/09/dummy.gif</div>"
   ]
  },
  {
   "cell_type": "code",
   "execution_count": null,
   "metadata": {},
   "outputs": [],
   "source": [
    "from IPython.core.display import HTML\n",
    "def css_styling():\n",
    "    styles = open(\"./custom.css\", \"r\").read()\n",
    "    return HTML(styles)\n",
    "css_styling()"
   ]
  },
  {
   "cell_type": "code",
   "execution_count": null,
   "metadata": {},
   "outputs": [],
   "source": []
  }
 ],
 "metadata": {
  "celltoolbar": "Slideshow",
  "kernelspec": {
   "name": "python37864bitd06bfdd885bd4711b087ccd7db91f07f",
   "display_name": "Python 3.7.8 64-bit"
  },
  "language_info": {
   "codemirror_mode": {
    "name": "ipython",
    "version": 3
   },
   "file_extension": ".py",
   "mimetype": "text/x-python",
   "name": "python",
   "nbconvert_exporter": "python",
   "pygments_lexer": "ipython3",
   "version": "3.7.8"
  },
  "metadata": {
   "interpreter": {
    "hash": "57baa5815c940fdaff4d14510622de9616cae602444507ba5d0b6727c008cbd6"
   }
  }
 },
 "nbformat": 4,
 "nbformat_minor": 2
}