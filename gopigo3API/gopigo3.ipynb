{
 "cells": [
  {
   "cell_type": "markdown",
   "metadata": {
    "slideshow": {
     "slide_type": "slide"
    }
   },
   "source": [
    "<div class=\"text-center\">\n",
    "    <h1 >GoPiGo Python API </h1>\n",
    "    <h3 >Course: Information & Communication Technologies and Systems</h3>\n",
    "    <br />\n",
    "    <div class=\"row\">Pascal Senjic</div>\n",
    "    <br />\n",
    "    <div>ESB Business School </div>\n",
    "    <br />\n",
    "<div>"
   ]
  },
  {
   "cell_type": "markdown",
   "metadata": {
    "slideshow": {
     "slide_type": "slide"
    }
   },
   "source": [
    "### Agenda\n",
    "* THE API\n",
    "* PROGRAM ON THE GOPIGO\n",
    "* SETUP YOUR IDE\n",
    "* ADDITIONAL SOURCES"
   ]
  },
  {
   "cell_type": "markdown",
   "metadata": {
    "slideshow": {
     "slide_type": "slide"
    }
   },
   "source": [
    "### THE API\n",
    "What is an API?\n",
    "* Application Programming Interface\n",
    "* Defines structures and methods/functions we use to program for a specific application type"
   ]
  },
  {
   "cell_type": "markdown",
   "metadata": {
    "slideshow": {
     "slide_type": "slide"
    }
   },
   "source": [
    "### THE API\n",
    "Find the API Documentation (https://gopigo3.readthedocs.io/en/master/)\n"
   ]
  },
  {
   "cell_type": "markdown",
   "metadata": {
    "slideshow": {
     "slide_type": "slide"
    }
   },
   "source": [
    "### THE API\n",
    "Now we do some coding.\n",
    "Below you find a sample for driving an eight."
   ]
  },
  {
   "cell_type": "code",
   "execution_count": 3,
   "metadata": {
    "slideshow": {
     "slide_type": "fragment"
    }
   },
   "outputs": [
    {
     "output_type": "stream",
     "name": "stdout",
     "text": [
      "set_motor_limits motor3:300\n",
      "set_motor_limits motor3:0\n",
      "set_motor_limits motor3:0\n",
      "set_motor_limits motor3:1000\n",
      "Warning: The robot is about to move left. \n",
      "set_motor_limits motor3:1000\n",
      "set_motor_limits motor2:1000\n",
      "set_motor_limits motor1:998.9395296430517\n",
      "motor1:1017336\n",
      "motor2:1018416\n",
      "motor1:998\n",
      "motor2:1000\n",
      "motor1:1996\n",
      "motor2:2000\n",
      "motor1:2994\n",
      "motor2:3000\n",
      "motor1:3992\n",
      "motor2:4000\n",
      "motor1:4990\n",
      "motor2:5000\n",
      "motor1:5988\n",
      "motor2:6000\n",
      "motor1:6986\n",
      "motor2:7000\n",
      "motor1:7984\n",
      "motor2:8000\n",
      "motor1:8982\n",
      "motor2:9000\n",
      "motor1:9980\n",
      "motor2:10000\n",
      "speed:0\n",
      "Warning: The robot is about to move forward. \n",
      "motor1:10978\n",
      "motor2:11000\n",
      "set_motor_limits motor3:1000\n",
      "motor1:453956\n",
      "motor2:454000\n",
      "motor1:11976\n",
      "motor2:12000\n",
      "motor1:12974\n",
      "motor2:13000\n",
      "motor1:13972\n",
      "motor2:14000\n",
      "motor1:14970\n",
      "motor2:15000\n",
      "motor1:15968\n",
      "motor2:16000\n",
      "motor1:16966\n",
      "motor2:17000\n",
      "motor1:17964\n",
      "motor2:18000\n",
      "motor1:18962\n",
      "motor2:19000\n",
      "motor1:19960\n",
      "motor2:20000\n",
      "motor1:20958\n",
      "motor2:21000\n",
      "speed:0\n",
      "Warning: The robot is about to move right. \n",
      "set_motor_limits motor3:1000\n",
      "set_motor_limits motor1:1000\n",
      "set_motor_limits motor2:998.9395296430517\n",
      "motor1:21958\n",
      "motor2:21998\n",
      "motor1:1062332\n",
      "motor2:1061332\n",
      "motor1:22958\n",
      "motor2:22996\n",
      "motor1:23958\n",
      "motor2:23994\n",
      "motor1:24958\n",
      "motor2:24992\n",
      "motor1:25958\n",
      "motor2:25990\n",
      "motor1:26958\n",
      "motor2:26988\n",
      "motor1:27958\n",
      "motor2:27986\n",
      "motor1:28958\n",
      "motor2:28984\n",
      "motor1:29958\n",
      "motor2:29982\n",
      "motor1:30958\n",
      "motor2:30980\n",
      "motor1:31958\n",
      "motor2:31978\n",
      "speed:0\n",
      "Warning: The robot is about to move forward. \n",
      "motor1:32958\n",
      "motor2:32976\n",
      "set_motor_limits motor3:1000\n",
      "motor1:497916\n",
      "motor2:497952\n",
      "motor1:33958\n",
      "motor2:33974\n",
      "motor1:34958\n",
      "motor2:34972\n",
      "motor1:35958\n",
      "motor2:35970\n",
      "motor1:36958\n",
      "motor2:36968\n",
      "motor1:37958\n",
      "motor2:37966\n",
      "motor1:38958\n",
      "motor2:38964\n",
      "motor1:39958\n",
      "motor2:39962\n",
      "motor1:40958\n",
      "motor2:40960\n",
      "motor1:41958\n",
      "motor2:41958\n",
      "motor1:42958\n",
      "motor2:42956\n",
      "speed:0\n"
     ]
    }
   ],
   "source": [
    "import time\n",
    "from easygopigo3 import EasyGoPiGo3\n",
    "\n",
    "gpg = EasyGoPiGo3()\n",
    "\n",
    "gpg.reset_all()\n",
    "time.sleep(1)  # let's give the reset_all() some time to finish\n",
    "radius = 30\n",
    "gpg.set_speed(1000)\n",
    "print(\"Warning: The robot is about to move left. \")\n",
    "gpg.orbit(-270, radius) # to rotate to the left\n",
    "print(\"Warning: The robot is about to move forward. \")\n",
    "gpg.drive_cm(radius * 2) # move forward\n",
    "print(\"Warning: The robot is about to move right. \")\n",
    "gpg.orbit(270, radius) # to rotate to the right\n",
    "print(\"Warning: The robot is about to move forward. \")\n",
    "gpg.drive_cm(radius * 2) # move forward"
   ]
  },
  {
   "cell_type": "code",
   "execution_count": 4,
   "metadata": {},
   "outputs": [
    {
     "output_type": "stream",
     "name": "stdout",
     "text": [
      "set_motor_limits motor3:300\nset_motor_limits motor3:0\nset_motor_limits motor3:0\nWarning: The robot is about to move forward. \nset_motor_limits motor3:300\nBoth motors moving Forward with Dex Eyes On\nset_motor_limits motor3:300\nset_motor_limits motor3:300\nmotor1:720000\nmotor2:720000\nspeed:0\nset_motor_limits motor3:300\nBoth motors stopped with Dex Eyes Off\nspeed:0\nBoth motors moving back with blinkers On\nset_motor_limits motor3:300\nset_motor_limits motor3:-300\nmotor1:-720000\nmotor2:-720000\nspeed:0\nBoth motors stopped with blinkers Off\nspeed:0\nHardware test finished.\nspeed:0\n"
     ]
    }
   ],
   "source": [
    "!python hardware_test.py"
   ]
  },
  {
   "source": [
    "### THE API\n",
    "Exercise:\n",
    "* Let the virtual robot drive a square\n",
    "* Lets switch the eyes of the virtual robot on and off\n",
    "* Let the virtual robot race a circular track with a straight way each 2 meters"
   ],
   "cell_type": "code",
   "metadata": {
    "slideshow": {
     "slide_type": "slide"
    }
   },
   "execution_count": null,
   "outputs": []
  },
  {
   "cell_type": "code",
   "execution_count": null,
   "metadata": {
    "slideshow": {
     "slide_type": "fragment"
    }
   },
   "outputs": [],
   "source": [
    "print(\"ready....set...go!\")"
   ]
  },
  {
   "cell_type": "code",
   "execution_count": null,
   "metadata": {
    "slideshow": {
     "slide_type": "fragment"
    }
   },
   "outputs": [],
   "source": [
    "print(\"Blinking eyes\")"
   ]
  },
  {
   "cell_type": "code",
   "execution_count": null,
   "metadata": {
    "slideshow": {
     "slide_type": "fragment"
    }
   },
   "outputs": [],
   "source": [
    "print(\"ready....set...go!\")"
   ]
  },
  {
   "cell_type": "markdown",
   "metadata": {
    "slideshow": {
     "slide_type": "slide"
    }
   },
   "source": [
    "### PROGRAM ON THE GOPIGO3\n",
    "The instructions for establish a connection to the GoPiGo3 can be found under https://www.dexterindustries.com/GoPiGo/get-started-with-the-gopigo3-raspberry-pi-robot/2-connect-to-the-gopigo-3/Raspbian-For-Robots-Operating-System/\n",
    "\n",
    "Python on the GoPiGo:\n",
    "* /home/pi/Dexter/DI_Sensors \n",
    "* /home/pi/Dexter/GoPiGo3/Software/ \n",
    "* Python In these two locations are also the .py sources for Sensors and the GoPiGo module currently installed\n",
    "* more infos can be found under https://www.dexterindustries.com/GoPiGo/get-started-with-the-gopigo3-raspberry-pi-robot/3-program-your-raspberry-pi-robot/python-programming-language/"
   ]
  },
  {
   "cell_type": "markdown",
   "metadata": {
    "slideshow": {
     "slide_type": "slide"
    }
   },
   "source": [
    "### PROGRAM ON THE GOPIGO3\n",
    "Run a hardware test:\n",
    "* Navigate to /home/pi/Dexter/GoPiGo3/Software/\n",
    "* RightClick on Python folder and click Open in Terminal\n",
    "* Type in terminal: python hardware_test.py\n",
    "* Now your robot should drive and blink"
   ]
  },
  {
   "cell_type": "markdown",
   "metadata": {
    "slideshow": {
     "slide_type": "slide"
    }
   },
   "source": [
    "### PROGRAM ON THE GOPIGO3\n",
    "You can now create a new python file and test your programs from the exercise\n",
    "\n",
    "Does your real robot behave as expected?"
   ]
  },
  {
   "cell_type": "markdown",
   "metadata": {
    "slideshow": {
     "slide_type": "slide"
    }
   },
   "source": [
    "### SETUP YOUR IDE\n",
    "\n",
    "You find the information under https://www.jetbrains.com/help/pycharm/creating-a-remote-server-configuration.html\n",
    "\n",
    "What we have to do is to establish a connection to the robot and allow the access to the filesystem\n",
    "\n",
    "After you set this up, you can develop the robot directly from PyCharm and deploy your code to the robot"
   ]
  },
  {
   "cell_type": "markdown",
   "metadata": {
    "slideshow": {
     "slide_type": "slide"
    }
   },
   "source": [
    "### ADDITIONAL SOURCS\n",
    "\n",
    "* GitHub \n",
    " * GitHub is a platform, where source code can be uploaded, saved and shared You can get code via a git client or via a project download Dexter Industries got a repository of the latest GoPiGo3 build https://github.com/DexterInd/GoPiGo3 \n",
    " * Dexter Industries also got examples under the same repository https://github.com/DexterInd/GoPiGo3/tree/master/Software/Python/Examples \n",
    " * Some sample Projects are also there Simulate a worms brain (https://github.com/Connectome/GoPiGo)\n",
    " \n",
    "* Dexter Industries\n",
    " * Those fellows are the providers of the GoPiGo\n",
    " * They have a lot of samples under their homepage under https://www.dexterindustries.com/GoPiGo/projects/python-examples-for-the-raspberry-pi/"
   ]
  },
  {
   "cell_type": "markdown",
   "metadata": {
    "slideshow": {
     "slide_type": "slide"
    }
   },
   "source": [
    "### Some Final words\n",
    "\n",
    "We focused here on the GoPiGo3 API, but you should now be able to read API-documentation as well.\n",
    "\n",
    "    \n",
    "OK, that's it with the GoPiGo3 API.\n",
    "Now you can start programming your robot\n",
    "\n",
    "<img src=\"https://hegeekshegeek.files.wordpress.com/2013/09/dummy.gif\" />\n",
    "<div class=\"text-right\" style=\"font-size:8pt\">Source: https://hegeekshegeek.files.wordpress.com/2013/09/dummy.gif</div>"
   ]
  },
  {
   "cell_type": "code",
   "execution_count": null,
   "metadata": {},
   "outputs": [],
   "source": [
    "from IPython.core.display import HTML\n",
    "def css_styling():\n",
    "    styles = open(\"./custom.css\", \"r\").read()\n",
    "    return HTML(styles)\n",
    "css_styling()"
   ]
  },
  {
   "cell_type": "code",
   "execution_count": null,
   "metadata": {},
   "outputs": [],
   "source": []
  }
 ],
 "metadata": {
  "celltoolbar": "Slideshow",
  "kernelspec": {
   "name": "python37864bitd06bfdd885bd4711b087ccd7db91f07f",
   "display_name": "Python 3.7.8 64-bit"
  },
  "language_info": {
   "codemirror_mode": {
    "name": "ipython",
    "version": 3
   },
   "file_extension": ".py",
   "mimetype": "text/x-python",
   "name": "python",
   "nbconvert_exporter": "python",
   "pygments_lexer": "ipython3",
   "version": "3.7.8"
  },
  "metadata": {
   "interpreter": {
    "hash": "57baa5815c940fdaff4d14510622de9616cae602444507ba5d0b6727c008cbd6"
   }
  }
 },
 "nbformat": 4,
 "nbformat_minor": 2
}