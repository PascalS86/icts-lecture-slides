{
 "cells": [
  {
   "cell_type": "markdown",
   "metadata": {
    "slideshow": {
     "slide_type": "slide"
    }
   },
   "source": [
    "<div class=\"text-center\">\n",
    "    <h1 >GoPiGo Python API </h1>\n",
    "    <h3 >Course: Information & Communication Technologies and Systems</h3>\n",
    "    <br />\n",
    "    <div class=\"row\">Pascal Senjic</div>\n",
    "    <br />\n",
    "    <div>ESB Business School </div>\n",
    "    <br />\n",
    "    <div>Summer 2020 </div>\n",
    "<div>"
   ]
  },
  {
   "cell_type": "markdown",
   "metadata": {
    "slideshow": {
     "slide_type": "slide"
    }
   },
   "source": [
    "### Agenda\n",
    "* THE API\n",
    "* PROGRAM ON THE GOPIGO\n",
    "* SETUP YOUR IDE\n",
    "* ADDITIONAL SOURCES"
   ]
  },
  {
   "cell_type": "markdown",
   "metadata": {
    "slideshow": {
     "slide_type": "slide"
    }
   },
   "source": [
    "### THE API\n",
    "What is an API?\n",
    "* Application Programming Interface\n",
    "* Defines structures and methods/functions we use to program for a specific application type"
   ]
  },
  {
   "cell_type": "markdown",
   "metadata": {
    "slideshow": {
     "slide_type": "slide"
    }
   },
   "source": [
    "### THE API\n",
    "Find the API Documentation (https://gopigo3.readthedocs.io/en/master/)\n"
   ]
  },
  {
   "cell_type": "markdown",
   "metadata": {
    "slideshow": {
     "slide_type": "slide"
    }
   },
   "source": [
    "### THE API\n",
    "Now we do some coding.\n",
    "Below you find a sample for driving an eight."
   ]
  },
  {
   "cell_type": "code",
   "execution_count": 1,
   "metadata": {
    "slideshow": {
     "slide_type": "fragment"
    }
   },
   "outputs": [
    {
     "output_type": "stream",
     "name": "stdout",
     "text": [
      "set_motor_limits motor3:300\n",
      "set_motor_limits motor3:0\n",
      "set_motor_limits motor3:0\n",
      "set_motor_limits motor3:300\n",
      "Warning: The robot is about to move left. \n",
      "set_motor_limits motor3:300\n",
      "set_motor_limits motor2:300\n",
      "set_motor_limits motor1:299.6818588929155\n",
      "motor1:1017336\n",
      "motor2:1018416\n",
      "motor1:299\n",
      "motor2:300\n",
      "motor1:598\n",
      "motor2:600\n",
      "motor1:897\n",
      "motor2:900\n",
      "motor1:1196\n",
      "motor2:1200\n",
      "motor1:1495\n",
      "motor2:1500\n",
      "motor1:1794\n",
      "motor2:1800\n",
      "motor1:2093\n",
      "motor2:2100\n",
      "motor1:2392\n",
      "motor2:2400\n",
      "motor1:2691\n",
      "motor2:2700\n",
      "motor1:2990\n",
      "motor2:3000\n",
      "speed:0\n",
      "Warning: The robot is about to move forward. \n",
      "motor1:3289\n",
      "motor2:3300\n",
      "set_motor_limits motor3:300\n",
      "motor1:438578\n",
      "motor2:438600\n",
      "motor1:3588\n",
      "motor2:3600\n",
      "motor1:3887\n",
      "motor2:3900\n",
      "motor1:4186\n",
      "motor2:4200\n",
      "motor1:4485\n",
      "motor2:4500\n",
      "motor1:4784\n",
      "motor2:4800\n",
      "motor1:5083\n",
      "motor2:5100\n",
      "motor1:5382\n",
      "motor2:5400\n",
      "motor1:5681\n",
      "motor2:5700\n",
      "motor1:5980\n",
      "motor2:6000\n",
      "motor1:6279\n",
      "motor2:6300\n",
      "speed:0\n",
      "Warning: The robot is about to move right. \n",
      "set_motor_limits motor3:300\n",
      "set_motor_limits motor1:300\n",
      "set_motor_limits motor2:299.6818588929155\n",
      "motor1:6579\n",
      "motor2:6599\n",
      "motor1:1031574\n",
      "motor2:1030534\n",
      "motor1:6879\n",
      "motor2:6898\n",
      "motor1:7179\n",
      "motor2:7197\n",
      "motor1:7479\n",
      "motor2:7496\n",
      "motor1:7779\n",
      "motor2:7795\n",
      "motor1:8079\n",
      "motor2:8094\n",
      "motor1:8379\n",
      "motor2:8393\n",
      "motor1:8679\n",
      "motor2:8692\n",
      "motor1:8979\n",
      "motor2:8991\n",
      "motor1:9279\n",
      "motor2:9290\n",
      "motor1:9579\n",
      "motor2:9589\n",
      "speed:0\n",
      "Warning: The robot is about to move forward. \n",
      "motor1:9879\n",
      "motor2:9888\n",
      "set_motor_limits motor3:300\n",
      "motor1:451758\n",
      "motor2:451776\n",
      "motor1:10179\n",
      "motor2:10187\n",
      "motor1:10479\n",
      "motor2:10486\n",
      "motor1:10779\n",
      "motor2:10785\n",
      "motor1:11079\n",
      "motor2:11084\n",
      "motor1:11379\n",
      "motor2:11383\n",
      "motor1:11679\n",
      "motor2:11682\n",
      "motor1:11979\n",
      "motor2:11981\n",
      "motor1:12279\n",
      "motor2:12280\n",
      "motor1:12579\n",
      "motor2:12579\n",
      "motor1:12879\n",
      "motor2:12878\n",
      "speed:0\n"
     ]
    }
   ],
   "source": [
    "import time\n",
    "from easygopigo3 import EasyGoPiGo3\n",
    "\n",
    "gpg = EasyGoPiGo3()\n",
    "\n",
    "gpg.reset_all()\n",
    "time.sleep(1)  # let's give the reset_all() some time to finish\n",
    "radius = 30\n",
    "gpg.set_speed(300)\n",
    "print(\"Warning: The robot is about to move left. \")\n",
    "gpg.orbit(-270, radius) # to rotate to the left\n",
    "print(\"Warning: The robot is about to move forward. \")\n",
    "gpg.drive_cm(radius * 2) # move forward\n",
    "print(\"Warning: The robot is about to move right. \")\n",
    "gpg.orbit(270, radius) # to rotate to the right\n",
    "print(\"Warning: The robot is about to move forward. \")\n",
    "gpg.drive_cm(radius * 2) # move forward"
   ]
  },
  {
   "cell_type": "markdown",
   "metadata": {
    "slideshow": {
     "slide_type": "slide"
    }
   },
   "source": [
    "### THE API\n",
    "Exercise:\n",
    "* Let the virtual robot drive a square\n",
    "* Lets switch the eyes of the virtual robot on and off\n",
    "* Let the virtual robot race a circular track with a straight way each 2 meters"
   ]
  },
  {
   "cell_type": "code",
   "execution_count": null,
   "metadata": {
    "slideshow": {
     "slide_type": "fragment"
    }
   },
   "outputs": [],
   "source": [
    "print(\"ready....set...go!\")"
   ]
  },
  {
   "cell_type": "code",
   "execution_count": null,
   "metadata": {
    "slideshow": {
     "slide_type": "fragment"
    }
   },
   "outputs": [],
   "source": [
    "print(\"Blinking eyes\")"
   ]
  },
  {
   "cell_type": "code",
   "execution_count": null,
   "metadata": {
    "slideshow": {
     "slide_type": "fragment"
    }
   },
   "outputs": [],
   "source": [
    "print(\"ready....set...go!\")"
   ]
  },
  {
   "cell_type": "markdown",
   "metadata": {
    "slideshow": {
     "slide_type": "slide"
    }
   },
   "source": [
    "### PROGRAM ON THE GOPIGO3\n",
    "The instructions for establish a connection to the GoPiGo3 can be found under https://www.dexterindustries.com/GoPiGo/get-started-with-the-gopigo3-raspberry-pi-robot/2-connect-to-the-gopigo-3/Raspbian-For-Robots-Operating-System/\n",
    "\n",
    "Python on the GoPiGo:\n",
    "* /home/pi/Dexter/DI_Sensors \n",
    "* /home/pi/Dexter/GoPiGo3/Software/ \n",
    "* Python In these two locations are also the .py sources for Sensors and the GoPiGo module currently installed\n",
    "* more infos can be found under https://www.dexterindustries.com/GoPiGo/get-started-with-the-gopigo3-raspberry-pi-robot/3-program-your-raspberry-pi-robot/python-programming-language/"
   ]
  },
  {
   "cell_type": "markdown",
   "metadata": {
    "slideshow": {
     "slide_type": "slide"
    }
   },
   "source": [
    "### PROGRAM ON THE GOPIGO3\n",
    "Run a hardware test:\n",
    "* Navigate to /home/pi/Dexter/GoPiGo3/Software/\n",
    "* RightClick on Python folder and click Open in Terminal\n",
    "* Type in terminal: python hardware_test.py\n",
    "* Now your robot should drive and blink"
   ]
  },
  {
   "cell_type": "markdown",
   "metadata": {
    "slideshow": {
     "slide_type": "slide"
    }
   },
   "source": [
    "### PROGRAM ON THE GOPIGO3\n",
    "You can now create a new python file and test your programs from the exercise\n",
    "\n",
    "Does your real robot behave as expected?"
   ]
  },
  {
   "cell_type": "markdown",
   "metadata": {
    "slideshow": {
     "slide_type": "slide"
    }
   },
   "source": [
    "### SETUP YOUR IDE\n",
    "\n",
    "You find the information under https://www.jetbrains.com/help/pycharm/creating-a-remote-server-configuration.html\n",
    "\n",
    "What we have to do is to establish a connection to the robot and allow the access to the filesystem\n",
    "\n",
    "After you set this up, you can develop the robot directly from PyCharm and deploy your code to the robot"
   ]
  },
  {
   "cell_type": "markdown",
   "metadata": {
    "slideshow": {
     "slide_type": "slide"
    }
   },
   "source": [
    "### ADDITIONAL SOURCS\n",
    "\n",
    "* GitHub \n",
    " * GitHub is a platform, where source code can be uploaded, saved and shared You can get code via a git client or via a project download Dexter Industries got a repository of the latest GoPiGo3 build https://github.com/DexterInd/GoPiGo3 \n",
    " * Dexter Industries also got examples under the same repository https://github.com/DexterInd/GoPiGo3/tree/master/Software/Python/Examples \n",
    " * Some sample Projects are also there Simulate a worms brain (https://github.com/Connectome/GoPiGo)\n",
    " \n",
    "* Dexter Industries\n",
    " * Those fellows are the providers of the GoPiGo\n",
    " * They have a lot of samples under their homepage under https://www.dexterindustries.com/GoPiGo/projects/python-examples-for-the-raspberry-pi/"
   ]
  },
  {
   "cell_type": "markdown",
   "metadata": {
    "slideshow": {
     "slide_type": "slide"
    }
   },
   "source": [
    "### Some Final words\n",
    "\n",
    "We focused here on the GoPiGo3 API, but you should now be able to read API-documentation as well.\n",
    "\n",
    "    \n",
    "OK, that's it with the GoPiGo3 API.\n",
    "Now you can start programming your robot\n",
    "\n",
    "<img src=\"https://hegeekshegeek.files.wordpress.com/2013/09/dummy.gif\" />\n",
    "<div class=\"text-right\" style=\"font-size:8pt\">Source: https://hegeekshegeek.files.wordpress.com/2013/09/dummy.gif</div>"
   ]
  },
  {
   "cell_type": "code",
   "execution_count": null,
   "metadata": {},
   "outputs": [],
   "source": [
    "from IPython.core.display import HTML\n",
    "def css_styling():\n",
    "    styles = open(\"./custom.css\", \"r\").read()\n",
    "    return HTML(styles)\n",
    "css_styling()"
   ]
  },
  {
   "cell_type": "code",
   "execution_count": null,
   "metadata": {},
   "outputs": [],
   "source": []
  }
 ],
 "metadata": {
  "celltoolbar": "Slideshow",
  "kernelspec": {
   "name": "python37864bitd06bfdd885bd4711b087ccd7db91f07f",
   "display_name": "Python 3.7.8 64-bit"
  },
  "language_info": {
   "codemirror_mode": {
    "name": "ipython",
    "version": 3
   },
   "file_extension": ".py",
   "mimetype": "text/x-python",
   "name": "python",
   "nbconvert_exporter": "python",
   "pygments_lexer": "ipython3",
   "version": "3.7.8"
  },
  "metadata": {
   "interpreter": {
    "hash": "57baa5815c940fdaff4d14510622de9616cae602444507ba5d0b6727c008cbd6"
   }
  }
 },
 "nbformat": 4,
 "nbformat_minor": 2
}